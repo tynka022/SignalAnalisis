{
 "cells": [
  {
   "attachments": {},
   "cell_type": "markdown",
   "metadata": {},
   "source": [
    "                    Laboratorium 1 \n",
    " Ocena wpywu trendów liniowych na parametry zmienności rytmu serca\n",
    "\n",
    "Martyna Toborek \n",
    "311843"
   ]
  },
  {
   "attachments": {},
   "cell_type": "markdown",
   "metadata": {},
   "source": [
    "Celem ćwiczenia jest sprawdzenie w jaki sposób trend wpływa na analizę interwału RR z zapisu sygnału EKG. \n",
    "\n",
    "Analizowane będą sygnały z 4 plików (chf201.txt_N.csv, chf202.txt_N.csv, nsr001.txt_N.csv, nsr002.txt_N.csv) z zapisem EKG rozpatrując trzy przedziały długości sygnału: \n",
    "1000 interwalow, 2000 interwalow, 5000 interwalow.\n",
    "\n",
    "Następnie należy wyznaczyć parametry dziedziny czasu oraz częstotliwości i porównać je dla sygnału z trendem i bez trendu. \n",
    "\n",
    "Biblioteka, z której skorzystałam do analizy sygnału to biblioteka hrv. Do opracowania danych użyłam też bibliotek numpy oraz pandas.\n"
   ]
  },
  {
   "cell_type": "code",
<<<<<<< HEAD
   "execution_count": 27,
=======
   "execution_count": 6,
>>>>>>> 9efdedc4041e7882e6866904b79d21381889bd30
   "metadata": {},
   "outputs": [
    {
     "ename": "ImportError",
     "evalue": "cannot import name 'MutableMapping' from 'collections' (/home/codespace/.python/current/lib/python3.10/collections/__init__.py)",
     "output_type": "error",
     "traceback": [
      "\u001b[0;31m---------------------------------------------------------------------------\u001b[0m",
      "\u001b[0;31mImportError\u001b[0m                               Traceback (most recent call last)",
      "Cell \u001b[0;32mIn[6], line 4\u001b[0m\n\u001b[1;32m      1\u001b[0m \u001b[39mimport\u001b[39;00m \u001b[39mpandas\u001b[39;00m \u001b[39mas\u001b[39;00m \u001b[39mpd\u001b[39;00m\n\u001b[1;32m      2\u001b[0m \u001b[39mimport\u001b[39;00m \u001b[39mnumpy\u001b[39;00m \u001b[39mas\u001b[39;00m \u001b[39mnp\u001b[39;00m\n\u001b[0;32m----> 4\u001b[0m \u001b[39mimport\u001b[39;00m \u001b[39mhrv\u001b[39;00m\n\u001b[1;32m      5\u001b[0m \u001b[39mfrom\u001b[39;00m \u001b[39mhrv\u001b[39;00m\u001b[39m.\u001b[39;00m\u001b[39mio\u001b[39;00m \u001b[39mimport\u001b[39;00m read_from_csv\n\u001b[1;32m      6\u001b[0m \u001b[39mfrom\u001b[39;00m \u001b[39mhrv\u001b[39;00m\u001b[39m.\u001b[39;00m\u001b[39mdetrend\u001b[39;00m \u001b[39mimport\u001b[39;00m sg_detrend\n",
      "File \u001b[0;32m~/.python/current/lib/python3.10/site-packages/hrv/__init__.py:20\u001b[0m\n\u001b[1;32m      1\u001b[0m \u001b[39m# coding: utf-8\u001b[39;00m\n\u001b[1;32m      2\u001b[0m \n\u001b[1;32m      3\u001b[0m \u001b[39m# Copyright 2015-2016 Rhenan Bartels <https://github.com/rhenanbartels/hrv/>\u001b[39;00m\n\u001b[0;32m   (...)\u001b[0m\n\u001b[1;32m     17\u001b[0m \n\u001b[1;32m     18\u001b[0m \u001b[39m# General imports\u001b[39;00m\n\u001b[0;32m---> 20\u001b[0m \u001b[39mimport\u001b[39;00m \u001b[39mhrv\u001b[39;00m\u001b[39m.\u001b[39;00m\u001b[39mclassical\u001b[39;00m \u001b[39mas\u001b[39;00m \u001b[39mclassical\u001b[39;00m\n\u001b[1;32m     21\u001b[0m \u001b[39mimport\u001b[39;00m \u001b[39mhrv\u001b[39;00m\u001b[39m.\u001b[39;00m\u001b[39mutils\u001b[39;00m \u001b[39mas\u001b[39;00m \u001b[39mutils\u001b[39;00m\n\u001b[1;32m     23\u001b[0m __version__ \u001b[39m=\u001b[39m \u001b[39m'\u001b[39m\u001b[39m0.2.10\u001b[39m\u001b[39m'\u001b[39m\n",
      "File \u001b[0;32m~/.python/current/lib/python3.10/site-packages/hrv/classical.py:7\u001b[0m\n\u001b[1;32m      4\u001b[0m \u001b[39mfrom\u001b[39;00m \u001b[39mscipy\u001b[39;00m\u001b[39m.\u001b[39;00m\u001b[39msignal\u001b[39;00m \u001b[39mimport\u001b[39;00m welch\n\u001b[1;32m      5\u001b[0m \u001b[39mfrom\u001b[39;00m \u001b[39mspectrum\u001b[39;00m \u001b[39mimport\u001b[39;00m pburg\n\u001b[0;32m----> 7\u001b[0m \u001b[39mfrom\u001b[39;00m \u001b[39mhrv\u001b[39;00m\u001b[39m.\u001b[39;00m\u001b[39mdetrend\u001b[39;00m \u001b[39mimport\u001b[39;00m polynomial_detrend\n\u001b[1;32m      8\u001b[0m \u001b[39mfrom\u001b[39;00m \u001b[39mhrv\u001b[39;00m\u001b[39m.\u001b[39;00m\u001b[39mrri\u001b[39;00m \u001b[39mimport\u001b[39;00m RRi\n\u001b[1;32m      9\u001b[0m \u001b[39mfrom\u001b[39;00m \u001b[39mhrv\u001b[39;00m\u001b[39m.\u001b[39;00m\u001b[39mutils\u001b[39;00m \u001b[39mimport\u001b[39;00m (validate_rri, _interpolate_rri)\n",
      "File \u001b[0;32m~/.python/current/lib/python3.10/site-packages/hrv/detrend.py:6\u001b[0m\n\u001b[1;32m      3\u001b[0m \u001b[39mfrom\u001b[39;00m \u001b[39mscipy\u001b[39;00m\u001b[39m.\u001b[39;00m\u001b[39msignal\u001b[39;00m \u001b[39mimport\u001b[39;00m savgol_filter\n\u001b[1;32m      4\u001b[0m \u001b[39mfrom\u001b[39;00m \u001b[39mscipy\u001b[39;00m\u001b[39m.\u001b[39;00m\u001b[39msparse\u001b[39;00m \u001b[39mimport\u001b[39;00m spdiags, dia_matrix\n\u001b[0;32m----> 6\u001b[0m \u001b[39mfrom\u001b[39;00m \u001b[39mhrv\u001b[39;00m\u001b[39m.\u001b[39;00m\u001b[39mrri\u001b[39;00m \u001b[39mimport\u001b[39;00m RRiDetrended, RRi, _create_time_array\n\u001b[1;32m      9\u001b[0m __all__ \u001b[39m=\u001b[39m [\u001b[39m'\u001b[39m\u001b[39mpolynomial_detrend\u001b[39m\u001b[39m'\u001b[39m, \u001b[39m'\u001b[39m\u001b[39msmoothness_priors\u001b[39m\u001b[39m'\u001b[39m, \u001b[39m'\u001b[39m\u001b[39msg_detrend\u001b[39m\u001b[39m'\u001b[39m]\n\u001b[1;32m     12\u001b[0m \u001b[39mdef\u001b[39;00m \u001b[39mpolynomial_detrend\u001b[39m(rri, degree\u001b[39m=\u001b[39m\u001b[39m1\u001b[39m):\n",
      "File \u001b[0;32m~/.python/current/lib/python3.10/site-packages/hrv/rri.py:18\u001b[0m\n\u001b[1;32m      1\u001b[0m \u001b[39m\"\"\"\u001b[39;00m\n\u001b[1;32m      2\u001b[0m \u001b[39mObjects for dealing with RR intervals series (RRi).\u001b[39;00m\n\u001b[1;32m      3\u001b[0m \n\u001b[0;32m   (...)\u001b[0m\n\u001b[1;32m     14\u001b[0m \u001b[39m - `RRiDetrended` -- detrended RRi values\u001b[39;00m\n\u001b[1;32m     15\u001b[0m \u001b[39m\"\"\"\u001b[39;00m\n\u001b[1;32m     17\u001b[0m \u001b[39mimport\u001b[39;00m \u001b[39msys\u001b[39;00m\n\u001b[0;32m---> 18\u001b[0m \u001b[39mfrom\u001b[39;00m \u001b[39mcollections\u001b[39;00m \u001b[39mimport\u001b[39;00m MutableMapping, defaultdict\n\u001b[1;32m     20\u001b[0m \u001b[39mimport\u001b[39;00m \u001b[39mmatplotlib\u001b[39;00m\u001b[39m.\u001b[39;00m\u001b[39mpyplot\u001b[39;00m \u001b[39mas\u001b[39;00m \u001b[39mplt\u001b[39;00m\n\u001b[1;32m     21\u001b[0m \u001b[39mimport\u001b[39;00m \u001b[39mnumpy\u001b[39;00m \u001b[39mas\u001b[39;00m \u001b[39mnp\u001b[39;00m\n",
      "\u001b[0;31mImportError\u001b[0m: cannot import name 'MutableMapping' from 'collections' (/home/codespace/.python/current/lib/python3.10/collections/__init__.py)"
     ]
    }
   ],
   "source": [
    "import pandas as pd\n",
    "import numpy as np\n",
    "\n",
    "import hrv\n",
    "from hrv.io import read_from_csv\n",
    "from hrv.detrend import sg_detrend\n",
    "from hrv.classical import frequency_domain"
   ]
  },
  {
   "attachments": {},
   "cell_type": "markdown",
   "metadata": {},
   "source": [
    "Poniższa funkcja to funkcja przepisana funkja time_domain z biblioteki hrv, z wprowadzonymi przeze mnie zmianami,  w postaci usunięcia niektórych niepotrzebnych wyliczanych parametrów. "
   ]
  },
  {
   "cell_type": "code",
<<<<<<< HEAD
   "execution_count": 28,
=======
   "execution_count": null,
>>>>>>> 9efdedc4041e7882e6866904b79d21381889bd30
   "metadata": {},
   "outputs": [],
   "source": [
    "def time_dom(rri):\n",
    "    diff_rri = np.diff(rri)\n",
    "    rmssd = np.sqrt(np.mean(diff_rri ** 2)) \n",
    "    sdnn = np.std(rri, ddof=1) \n",
    "    pnn50 = sum(abs(np.diff(rri)) > 50)/ len(rri) * 100 \n",
    "    mrri = np.mean(rri) \n",
    "    \n",
    "    return dict(\n",
    "        zip(\n",
    "            [\"rmssd\", \"sdnn\", \"pnn50\", \"mrri\"],\n",
    "            [rmssd, sdnn, pnn50, mrri],\n",
    "        )\n",
    "    )"
   ]
  },
  {
   "attachments": {},
   "cell_type": "markdown",
   "metadata": {},
   "source": [
    "Poniżej następuje pobranie danych z plików. "
   ]
  },
  {
   "cell_type": "code",
<<<<<<< HEAD
   "execution_count": 29,
=======
   "execution_count": null,
>>>>>>> 9efdedc4041e7882e6866904b79d21381889bd30
   "metadata": {},
   "outputs": [],
   "source": [
    "data_1 = read_from_csv(\"chf201.txt_N.csv\")\n",
    "data_2 = read_from_csv(\"chf202.txt_N.csv\")\n",
    "data_3 = read_from_csv(\"nsr001.txt_N.csv\")\n",
    "data_4 = read_from_csv(\"nsr002.txt_N.csv\")"
   ]
  },
  {
   "attachments": {},
   "cell_type": "markdown",
   "metadata": {},
   "source": [
    "a) 1000 interwałów"
   ]
  },
  {
   "attachments": {},
   "cell_type": "markdown",
   "metadata": {},
   "source": [
    "W poniższej komórce wycinam przedział danych, który będę analizować. \n",
    "Za pomocą wyżej zdefiniowanej funkcji wyliczam parametry w dziedzinie czasu, natomiast funkcja frequency_domain z biblioteki hrv wylicza parametry w dziedzinie częstotliwości. "
   ]
  },
  {
   "cell_type": "code",
<<<<<<< HEAD
   "execution_count": 30,
=======
   "execution_count": null,
>>>>>>> 9efdedc4041e7882e6866904b79d21381889bd30
   "metadata": {},
   "outputs": [],
   "source": [
    "rri_1_10 = data_1.time_range(start=0, end=1000)\n",
    "results_time_1_10 = time_dom(rri_1_10)\n",
    "results_freq_1_10 = frequency_domain(rri=rri_1_10, fs=4.0, method='welch', interp_method='cubic',\n",
    "    detrend='linear')\n"
   ]
  },
  {
   "attachments": {},
   "cell_type": "markdown",
   "metadata": {},
   "source": [
    "W poniższej komórce funkcją sg_detrend usuwam trend z wyznaczonego sygnału. Funkcja ta przepuszcza sygnał wejściowy przez dolnoprzepustowy filtr Savitzky-Golay. \n",
    "Następnie tymi samymi funkcjami wyznaczam parametry w dziedzinam czasu i częstotliwości."
   ]
  },
  {
   "cell_type": "code",
<<<<<<< HEAD
   "execution_count": 31,
=======
   "execution_count": null,
>>>>>>> 9efdedc4041e7882e6866904b79d21381889bd30
   "metadata": {},
   "outputs": [],
   "source": [
    "cleaned_1_10 = sg_detrend(rri_1_10,  polyorder=3)\n",
    "results_time_1_10c = time_dom(cleaned_1_10)\n",
    "results_freq_1_10c = frequency_domain(rri=cleaned_1_10, fs=4.0, method='welch', interp_method='cubic',\n",
    "    detrend='linear')"
   ]
  },
  {
   "attachments": {},
   "cell_type": "markdown",
   "metadata": {},
   "source": [
    "Poniżej dane z trendem są przedstawione na wykresie 1 (niebieskim), natomiast na drugim (czerwonym) przedstawione są dane bez trendu."
   ]
  },
  {
   "cell_type": "code",
<<<<<<< HEAD
   "execution_count": 32,
=======
   "execution_count": null,
>>>>>>> 9efdedc4041e7882e6866904b79d21381889bd30
   "metadata": {},
   "outputs": [
    {
     "data": {
      "image/png": "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",
      "text/plain": [
       "<Figure size 640x480 with 1 Axes>"
      ]
     },
     "metadata": {},
     "output_type": "display_data"
    },
    {
     "data": {
      "image/png": "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",
      "text/plain": [
       "<Figure size 640x480 with 1 Axes>"
      ]
     },
     "metadata": {},
     "output_type": "display_data"
    }
   ],
   "source": [
    "fig1, ax1 = rri_1_10.plot(color='b')\n",
    "fig2, ax2 = cleaned_1_10.plot(color='r')"
   ]
  },
  {
   "attachments": {},
   "cell_type": "markdown",
   "metadata": {},
   "source": [
    "Każda poniższa analiza wygląda analogicznie jak opisana powyżej."
   ]
  },
  {
   "cell_type": "code",
<<<<<<< HEAD
   "execution_count": 33,
=======
   "execution_count": null,
>>>>>>> 9efdedc4041e7882e6866904b79d21381889bd30
   "metadata": {},
   "outputs": [],
   "source": [
    "rri_2_10 = data_2.time_range(start=0, end=1000)\n",
    "results_time_2_10 = time_dom(rri_2_10)\n",
    "results_freq_2_10 = frequency_domain(rri=rri_2_10, fs=4.0, method='welch', interp_method='cubic',\n",
    "    detrend='linear')"
   ]
  },
  {
   "cell_type": "code",
<<<<<<< HEAD
   "execution_count": 34,
=======
   "execution_count": null,
>>>>>>> 9efdedc4041e7882e6866904b79d21381889bd30
   "metadata": {},
   "outputs": [],
   "source": [
    "cleaned_2_10 = sg_detrend(rri_2_10,  polyorder=3)\n",
    "results_time_2_10c = time_dom(cleaned_2_10)\n",
    "results_freq_2_10c = frequency_domain(rri=cleaned_2_10, fs=4.0, method='welch', interp_method='cubic',\n",
    "    detrend='linear')"
   ]
  },
  {
   "cell_type": "code",
<<<<<<< HEAD
   "execution_count": 35,
=======
   "execution_count": null,
>>>>>>> 9efdedc4041e7882e6866904b79d21381889bd30
   "metadata": {},
   "outputs": [],
   "source": [
    "#fig1_2, ax1_2 = rri_2_10.plot(color='b')\n",
    "#fig2_2, ax2_2 = cleaned_2_10.plot(color='r')"
   ]
  },
  {
   "cell_type": "code",
<<<<<<< HEAD
   "execution_count": 36,
=======
   "execution_count": null,
>>>>>>> 9efdedc4041e7882e6866904b79d21381889bd30
   "metadata": {},
   "outputs": [],
   "source": [
    "rri_3_10 = data_3.time_range(start=0, end=1000)\n",
    "results_time_3_10 = time_dom(rri_3_10)\n",
    "results_freq_3_10 = frequency_domain(rri=rri_3_10, fs=4.0, method='welch', interp_method='cubic',\n",
    "    detrend='linear')"
   ]
  },
  {
   "cell_type": "code",
<<<<<<< HEAD
   "execution_count": 37,
=======
   "execution_count": null,
>>>>>>> 9efdedc4041e7882e6866904b79d21381889bd30
   "metadata": {},
   "outputs": [],
   "source": [
    "cleaned_3_10 = sg_detrend(rri_3_10,  polyorder=3)\n",
    "results_time_3_10c = time_dom(cleaned_3_10)\n",
    "results_freq_3_10c = frequency_domain(rri=cleaned_3_10, fs=4.0, method='welch', interp_method='cubic',\n",
    "    detrend='linear')"
   ]
  },
  {
   "cell_type": "code",
<<<<<<< HEAD
   "execution_count": 38,
=======
   "execution_count": null,
>>>>>>> 9efdedc4041e7882e6866904b79d21381889bd30
   "metadata": {},
   "outputs": [],
   "source": [
    "#fig1_3, ax1_3 = rri_3_10.plot(color='b')\n",
    "#fig2_3, ax2_3 = cleaned_3_10.plot(color='r')"
   ]
  },
  {
   "cell_type": "code",
<<<<<<< HEAD
   "execution_count": 39,
=======
   "execution_count": null,
>>>>>>> 9efdedc4041e7882e6866904b79d21381889bd30
   "metadata": {},
   "outputs": [],
   "source": [
    "rri_4_10 = data_4.time_range(start=0, end=1000)\n",
    "results_time_4_10 = time_dom(rri_4_10)\n",
    "results_freq_4_10 = frequency_domain(rri=rri_4_10, fs=4.0, method='welch', interp_method='cubic',\n",
    "    detrend='linear')"
   ]
  },
  {
   "cell_type": "code",
<<<<<<< HEAD
   "execution_count": 40,
=======
   "execution_count": null,
>>>>>>> 9efdedc4041e7882e6866904b79d21381889bd30
   "metadata": {},
   "outputs": [],
   "source": [
    "cleaned_4_10 = sg_detrend(rri_4_10,  polyorder=3)\n",
    "results_time_4_10c = time_dom(cleaned_4_10)\n",
    "results_freq_4_10c = frequency_domain(rri=cleaned_4_10, fs=4.0, method='welch', interp_method='cubic',\n",
    "    detrend='linear')"
   ]
  },
  {
   "cell_type": "code",
<<<<<<< HEAD
   "execution_count": 41,
=======
   "execution_count": null,
>>>>>>> 9efdedc4041e7882e6866904b79d21381889bd30
   "metadata": {},
   "outputs": [],
   "source": [
    "#fig1_4, ax1_4 = rri_4_10.plot(color='b')\n",
    "#fig2_4, ax2_4 = cleaned_4_10.plot(color='r')"
   ]
  },
  {
   "attachments": {},
   "cell_type": "markdown",
   "metadata": {},
   "source": [
    "Poniżej wszystkie dane są zebrane w jedną tabele dla podpunktu a). Analogicznie jest to przedstawione na końcu dla pozostałych podpunktów."
   ]
  },
  {
   "cell_type": "code",
<<<<<<< HEAD
   "execution_count": 42,
=======
   "execution_count": null,
>>>>>>> 9efdedc4041e7882e6866904b79d21381889bd30
   "metadata": {},
   "outputs": [
    {
     "name": "stderr",
     "output_type": "stream",
     "text": [
      "C:\\Users\\tynka\\AppData\\Local\\Temp\\ipykernel_9144\\3313949165.py:19: FutureWarning: The frame.append method is deprecated and will be removed from pandas in a future version. Use pandas.concat instead.\n",
      "  rr1 = r11.append(r12)\n"
     ]
    },
    {
     "data": {
      "text/html": [
       "<div>\n",
       "<style scoped>\n",
       "    .dataframe tbody tr th:only-of-type {\n",
       "        vertical-align: middle;\n",
       "    }\n",
       "\n",
       "    .dataframe tbody tr th {\n",
       "        vertical-align: top;\n",
       "    }\n",
       "\n",
       "    .dataframe thead th {\n",
       "        text-align: right;\n",
       "    }\n",
       "</style>\n",
       "<table border=\"1\" class=\"dataframe\">\n",
       "  <thead>\n",
       "    <tr style=\"text-align: right;\">\n",
       "      <th></th>\n",
       "      <th>chf201 - data</th>\n",
       "      <th>chf201 - detrended data</th>\n",
       "      <th>chf202 - data</th>\n",
       "      <th>chf202 - detrended data</th>\n",
       "      <th>nsr001 - data</th>\n",
       "      <th>nsr001 - detrended data</th>\n",
       "      <th>nsr002 - data</th>\n",
       "      <th>nsr002 - detrended data</th>\n",
       "    </tr>\n",
       "  </thead>\n",
       "  <tbody>\n",
       "    <tr>\n",
       "      <th>rmssd</th>\n",
       "      <td>23.16</td>\n",
       "      <td>23.00</td>\n",
       "      <td>58.29</td>\n",
       "      <td>58.31</td>\n",
       "      <td>15.64</td>\n",
       "      <td>15.70</td>\n",
       "      <td>18.88</td>\n",
       "      <td>18.69</td>\n",
       "    </tr>\n",
       "    <tr>\n",
       "      <th>sdnn</th>\n",
       "      <td>87.96</td>\n",
       "      <td>35.02</td>\n",
       "      <td>58.30</td>\n",
       "      <td>40.24</td>\n",
       "      <td>55.24</td>\n",
       "      <td>22.35</td>\n",
       "      <td>73.43</td>\n",
       "      <td>29.80</td>\n",
       "    </tr>\n",
       "    <tr>\n",
       "      <th>pnn50</th>\n",
       "      <td>3.31</td>\n",
       "      <td>3.52</td>\n",
       "      <td>2.16</td>\n",
       "      <td>2.10</td>\n",
       "      <td>0.50</td>\n",
       "      <td>0.56</td>\n",
       "      <td>1.37</td>\n",
       "      <td>1.37</td>\n",
       "    </tr>\n",
       "    <tr>\n",
       "      <th>mrri</th>\n",
       "      <td>703.99</td>\n",
       "      <td>-0.02</td>\n",
       "      <td>583.38</td>\n",
       "      <td>-0.06</td>\n",
       "      <td>619.80</td>\n",
       "      <td>0.01</td>\n",
       "      <td>805.34</td>\n",
       "      <td>0.01</td>\n",
       "    </tr>\n",
       "    <tr>\n",
       "      <th>total_power</th>\n",
       "      <td>1815.00</td>\n",
       "      <td>1005.37</td>\n",
       "      <td>5129.79</td>\n",
       "      <td>5022.75</td>\n",
       "      <td>647.41</td>\n",
       "      <td>435.29</td>\n",
       "      <td>1166.20</td>\n",
       "      <td>836.12</td>\n",
       "    </tr>\n",
       "    <tr>\n",
       "      <th>vlf</th>\n",
       "      <td>950.19</td>\n",
       "      <td>94.52</td>\n",
       "      <td>450.30</td>\n",
       "      <td>362.61</td>\n",
       "      <td>269.22</td>\n",
       "      <td>10.70</td>\n",
       "      <td>361.35</td>\n",
       "      <td>30.33</td>\n",
       "    </tr>\n",
       "    <tr>\n",
       "      <th>lf</th>\n",
       "      <td>679.62</td>\n",
       "      <td>726.17</td>\n",
       "      <td>2018.29</td>\n",
       "      <td>1992.83</td>\n",
       "      <td>340.86</td>\n",
       "      <td>387.63</td>\n",
       "      <td>749.23</td>\n",
       "      <td>749.54</td>\n",
       "    </tr>\n",
       "    <tr>\n",
       "      <th>hf</th>\n",
       "      <td>185.19</td>\n",
       "      <td>184.68</td>\n",
       "      <td>2661.19</td>\n",
       "      <td>2667.31</td>\n",
       "      <td>37.34</td>\n",
       "      <td>36.95</td>\n",
       "      <td>55.62</td>\n",
       "      <td>56.25</td>\n",
       "    </tr>\n",
       "    <tr>\n",
       "      <th>lf_hf</th>\n",
       "      <td>3.67</td>\n",
       "      <td>3.93</td>\n",
       "      <td>0.76</td>\n",
       "      <td>0.75</td>\n",
       "      <td>9.13</td>\n",
       "      <td>10.49</td>\n",
       "      <td>13.47</td>\n",
       "      <td>13.33</td>\n",
       "    </tr>\n",
       "    <tr>\n",
       "      <th>lfnu</th>\n",
       "      <td>78.59</td>\n",
       "      <td>79.72</td>\n",
       "      <td>43.13</td>\n",
       "      <td>42.76</td>\n",
       "      <td>90.13</td>\n",
       "      <td>91.30</td>\n",
       "      <td>93.09</td>\n",
       "      <td>93.02</td>\n",
       "    </tr>\n",
       "    <tr>\n",
       "      <th>hfnu</th>\n",
       "      <td>21.41</td>\n",
       "      <td>20.28</td>\n",
       "      <td>56.87</td>\n",
       "      <td>57.24</td>\n",
       "      <td>9.87</td>\n",
       "      <td>8.70</td>\n",
       "      <td>6.91</td>\n",
       "      <td>6.98</td>\n",
       "    </tr>\n",
       "  </tbody>\n",
       "</table>\n",
       "</div>"
      ],
      "text/plain": [
       "             chf201 - data  chf201 - detrended data  chf202 - data  \\\n",
       "rmssd                23.16                    23.00          58.29   \n",
       "sdnn                 87.96                    35.02          58.30   \n",
       "pnn50                 3.31                     3.52           2.16   \n",
       "mrri                703.99                    -0.02         583.38   \n",
       "total_power        1815.00                  1005.37        5129.79   \n",
       "vlf                 950.19                    94.52         450.30   \n",
       "lf                  679.62                   726.17        2018.29   \n",
       "hf                  185.19                   184.68        2661.19   \n",
       "lf_hf                 3.67                     3.93           0.76   \n",
       "lfnu                 78.59                    79.72          43.13   \n",
       "hfnu                 21.41                    20.28          56.87   \n",
       "\n",
       "             chf202 - detrended data  nsr001 - data  nsr001 - detrended data  \\\n",
       "rmssd                          58.31          15.64                    15.70   \n",
       "sdnn                           40.24          55.24                    22.35   \n",
       "pnn50                           2.10           0.50                     0.56   \n",
       "mrri                           -0.06         619.80                     0.01   \n",
       "total_power                  5022.75         647.41                   435.29   \n",
       "vlf                           362.61         269.22                    10.70   \n",
       "lf                           1992.83         340.86                   387.63   \n",
       "hf                           2667.31          37.34                    36.95   \n",
       "lf_hf                           0.75           9.13                    10.49   \n",
       "lfnu                           42.76          90.13                    91.30   \n",
       "hfnu                           57.24           9.87                     8.70   \n",
       "\n",
       "             nsr002 - data  nsr002 - detrended data  \n",
       "rmssd                18.88                    18.69  \n",
       "sdnn                 73.43                    29.80  \n",
       "pnn50                 1.37                     1.37  \n",
       "mrri                805.34                     0.01  \n",
       "total_power        1166.20                   836.12  \n",
       "vlf                 361.35                    30.33  \n",
       "lf                  749.23                   749.54  \n",
       "hf                   55.62                    56.25  \n",
       "lf_hf                13.47                    13.33  \n",
       "lfnu                 93.09                    93.02  \n",
       "hfnu                  6.91                     6.98  "
      ]
     },
     "execution_count": 42,
     "metadata": {},
     "output_type": "execute_result"
    }
   ],
   "source": [
    "rt1_1 = pd.DataFrame.from_dict(results_time_1_10, orient='index', columns=['chf201 - data'])\n",
    "rt1_1c = pd.DataFrame.from_dict(results_time_1_10c, orient='index', columns=['chf201 - detrended data'])\n",
    "rt2_1 = pd.DataFrame.from_dict(results_time_2_10, orient='index', columns=['chf202 - data'])\n",
    "rt2_1c = pd.DataFrame.from_dict(results_time_2_10c, orient='index', columns=['chf202 - detrended data'])\n",
    "rt3_1 = pd.DataFrame.from_dict(results_time_3_10, orient='index', columns=['nsr001 - data'])\n",
    "rt3_1c = pd.DataFrame.from_dict(results_time_3_10c, orient='index', columns=['nsr001 - detrended data'])\n",
    "rt4_1 = pd.DataFrame.from_dict(results_time_4_10, orient='index', columns=['nsr002 - data'])\n",
    "rt4_1c = pd.DataFrame.from_dict(results_time_4_10c, orient='index', columns=['nsr002 - detrended data'])\n",
    "rf1_1 = pd.DataFrame.from_dict(results_freq_1_10, orient='index', columns=['chf201 - data'])\n",
    "rf1_1c = pd.DataFrame.from_dict(results_freq_1_10c, orient='index', columns=['chf201 - detrended data'])\n",
    "rf2_1 = pd.DataFrame.from_dict(results_freq_2_10, orient='index', columns=['chf202 - data'])\n",
    "rf2_1c = pd.DataFrame.from_dict(results_freq_2_10c, orient='index', columns=['chf202 - detrended data'])\n",
    "rf3_1 = pd.DataFrame.from_dict(results_freq_3_10, orient='index', columns=['nsr001 - data'])\n",
    "rf3_1c = pd.DataFrame.from_dict(results_freq_3_10c, orient='index', columns=['nsr001 - detrended data'])\n",
    "rf4_1 = pd.DataFrame.from_dict(results_freq_4_10, orient='index', columns=['nsr002 - data'])\n",
    "rf4_1c = pd.DataFrame.from_dict(results_freq_4_10c, orient='index', columns=['nsr002 - detrended data'])\n",
    "r12=pd.concat([rf1_1,rf1_1c, rf2_1, rf2_1c, rf3_1, rf3_1c, rf4_1, rf4_1c], axis = 1)\n",
    "r11=pd.concat([rt1_1, rt1_1c, rt2_1, rt2_1c, rt3_1, rt3_1c, rt4_1, rt4_1c], axis = 1)\n",
    "rr1 = r11.append(r12)\n",
    "rr1.round(2)"
   ]
  },
  {
   "attachments": {},
   "cell_type": "markdown",
   "metadata": {},
   "source": [
    "b) 2000 interwałów"
   ]
  },
  {
   "cell_type": "code",
<<<<<<< HEAD
   "execution_count": 43,
=======
   "execution_count": null,
>>>>>>> 9efdedc4041e7882e6866904b79d21381889bd30
   "metadata": {},
   "outputs": [],
   "source": [
    "rri_1_20 = data_1.time_range(start=0, end=2000)\n",
    "results_time_1_20 = time_dom(rri_1_20)\n",
    "results_freq_1_20 = frequency_domain(rri=rri_1_20, fs=4.0, method='welch', interp_method='cubic',\n",
    "    detrend='linear')"
   ]
  },
  {
   "cell_type": "code",
<<<<<<< HEAD
   "execution_count": 44,
=======
   "execution_count": null,
>>>>>>> 9efdedc4041e7882e6866904b79d21381889bd30
   "metadata": {},
   "outputs": [],
   "source": [
    "cleaned_1_20 =  sg_detrend(rri_1_20,  polyorder=3)\n",
    "results_time_1_20c = time_dom(cleaned_1_20)\n",
    "results_freq_1_20c = frequency_domain(rri=cleaned_1_20, fs=4.0, method='welch', interp_method='cubic',\n",
    "    detrend='linear')"
   ]
  },
  {
   "cell_type": "code",
<<<<<<< HEAD
   "execution_count": 45,
=======
   "execution_count": null,
>>>>>>> 9efdedc4041e7882e6866904b79d21381889bd30
   "metadata": {},
   "outputs": [],
   "source": [
    "#fig1_5, ax1_5 = rri_1_20.plot(color='b')\n",
    "#fig2_5, ax2_5 = cleaned_1_20.plot(color='r')"
   ]
  },
  {
   "cell_type": "code",
<<<<<<< HEAD
   "execution_count": 46,
=======
   "execution_count": null,
>>>>>>> 9efdedc4041e7882e6866904b79d21381889bd30
   "metadata": {},
   "outputs": [],
   "source": [
    "rri_2_20 = data_2.time_range(start=0, end=2000)\n",
    "results_time_2_20 = time_dom(rri_2_20)\n",
    "results_freq_2_20 = frequency_domain(rri=rri_2_20, fs=4.0, method='welch', interp_method='cubic',\n",
    "    detrend='linear')"
   ]
  },
  {
   "cell_type": "code",
<<<<<<< HEAD
   "execution_count": 47,
=======
   "execution_count": null,
>>>>>>> 9efdedc4041e7882e6866904b79d21381889bd30
   "metadata": {},
   "outputs": [],
   "source": [
    "cleaned_2_20 =  sg_detrend(rri_2_20,  polyorder=3)\n",
    "results_time_2_20c = time_dom(cleaned_2_20)\n",
    "results_freq_2_20c = frequency_domain(rri=cleaned_2_20, fs=4.0, method='welch', interp_method='cubic',\n",
    "    detrend='linear')"
   ]
  },
  {
   "cell_type": "code",
<<<<<<< HEAD
   "execution_count": 48,
=======
   "execution_count": null,
>>>>>>> 9efdedc4041e7882e6866904b79d21381889bd30
   "metadata": {},
   "outputs": [],
   "source": [
    "#fig1_6, ax1_6 = rri_2_20.plot(color='b')\n",
    "#fig2_6, ax2_6 = cleaned_2_20.plot(color='r')"
   ]
  },
  {
   "cell_type": "code",
<<<<<<< HEAD
   "execution_count": 49,
=======
   "execution_count": null,
>>>>>>> 9efdedc4041e7882e6866904b79d21381889bd30
   "metadata": {},
   "outputs": [],
   "source": [
    "rri_3_20 = data_3.time_range(start=0, end=2000)\n",
    "results_time_3_20 = time_dom(rri_3_20)\n",
    "results_freq_3_20 = frequency_domain(rri=rri_3_20, fs=4.0, method='welch', interp_method='cubic',\n",
    "    detrend='linear')"
   ]
  },
  {
   "cell_type": "code",
<<<<<<< HEAD
   "execution_count": 50,
=======
   "execution_count": null,
>>>>>>> 9efdedc4041e7882e6866904b79d21381889bd30
   "metadata": {},
   "outputs": [],
   "source": [
    "cleaned_3_20 =  sg_detrend(rri_3_20,  polyorder=3)\n",
    "results_time_3_20c = time_dom(cleaned_3_20)\n",
    "results_freq_3_20c = frequency_domain(rri=cleaned_3_20, fs=4.0, method='welch', interp_method='cubic',\n",
    "    detrend='linear')"
   ]
  },
  {
   "cell_type": "code",
<<<<<<< HEAD
   "execution_count": 51,
=======
   "execution_count": null,
>>>>>>> 9efdedc4041e7882e6866904b79d21381889bd30
   "metadata": {},
   "outputs": [],
   "source": [
    "#fig1_7, ax1_7 = rri_3_20.plot(color='b')\n",
    "#fig2_7, ax2_7 = cleaned_3_20.plot(color='r')"
   ]
  },
  {
   "cell_type": "code",
<<<<<<< HEAD
   "execution_count": 52,
=======
   "execution_count": null,
>>>>>>> 9efdedc4041e7882e6866904b79d21381889bd30
   "metadata": {},
   "outputs": [],
   "source": [
    "rri_4_20 = data_4.time_range(start=0, end=2000)\n",
    "results_time_4_20 = time_dom(rri_4_20)\n",
    "results_freq_4_20 = frequency_domain(rri=rri_4_20, fs=4.0, method='welch', interp_method='cubic',\n",
    "    detrend='linear')"
   ]
  },
  {
   "cell_type": "code",
<<<<<<< HEAD
   "execution_count": 53,
=======
   "execution_count": null,
>>>>>>> 9efdedc4041e7882e6866904b79d21381889bd30
   "metadata": {},
   "outputs": [],
   "source": [
    "cleaned_4_20 =  sg_detrend(rri_4_20,  polyorder=3)\n",
    "results_time_4_20c = time_dom(cleaned_4_20)\n",
    "results_freq_4_20c = frequency_domain(rri=cleaned_4_20, fs=4.0, method='welch', interp_method='cubic',\n",
    "    detrend='linear')"
   ]
  },
  {
   "cell_type": "code",
<<<<<<< HEAD
   "execution_count": 54,
=======
   "execution_count": null,
>>>>>>> 9efdedc4041e7882e6866904b79d21381889bd30
   "metadata": {},
   "outputs": [],
   "source": [
    "#fig1_8, ax1_8 = rri_4_20.plot(color='b')\n",
    "#fig2_8, ax2_8 = cleaned_4_20.plot(color='r')"
   ]
  },
  {
   "cell_type": "code",
<<<<<<< HEAD
   "execution_count": 55,
=======
   "execution_count": null,
>>>>>>> 9efdedc4041e7882e6866904b79d21381889bd30
   "metadata": {},
   "outputs": [
    {
     "name": "stderr",
     "output_type": "stream",
     "text": [
      "C:\\Users\\tynka\\AppData\\Local\\Temp\\ipykernel_9144\\1902443133.py:19: FutureWarning: The frame.append method is deprecated and will be removed from pandas in a future version. Use pandas.concat instead.\n",
      "  rr2 = r12.append(r22)\n"
     ]
    },
    {
     "data": {
      "text/html": [
       "<div>\n",
       "<style scoped>\n",
       "    .dataframe tbody tr th:only-of-type {\n",
       "        vertical-align: middle;\n",
       "    }\n",
       "\n",
       "    .dataframe tbody tr th {\n",
       "        vertical-align: top;\n",
       "    }\n",
       "\n",
       "    .dataframe thead th {\n",
       "        text-align: right;\n",
       "    }\n",
       "</style>\n",
       "<table border=\"1\" class=\"dataframe\">\n",
       "  <thead>\n",
       "    <tr style=\"text-align: right;\">\n",
       "      <th></th>\n",
       "      <th>chf201 - data</th>\n",
       "      <th>chf201 - detrended data</th>\n",
       "      <th>chf202 - data</th>\n",
       "      <th>chf202 - detrended data</th>\n",
       "      <th>nsr001 - data</th>\n",
       "      <th>nsr001 - detrended data</th>\n",
       "      <th>nsr002 - data</th>\n",
       "      <th>nsr002 - detrended data</th>\n",
       "    </tr>\n",
       "  </thead>\n",
       "  <tbody>\n",
       "    <tr>\n",
       "      <th>rmssd</th>\n",
       "      <td>26.63</td>\n",
       "      <td>26.44</td>\n",
       "      <td>43.97</td>\n",
       "      <td>43.97</td>\n",
       "      <td>14.50</td>\n",
       "      <td>14.53</td>\n",
       "      <td>17.41</td>\n",
       "      <td>17.31</td>\n",
       "    </tr>\n",
       "    <tr>\n",
       "      <th>sdnn</th>\n",
       "      <td>97.01</td>\n",
       "      <td>38.69</td>\n",
       "      <td>50.07</td>\n",
       "      <td>31.12</td>\n",
       "      <td>67.69</td>\n",
       "      <td>16.93</td>\n",
       "      <td>75.76</td>\n",
       "      <td>27.81</td>\n",
       "    </tr>\n",
       "    <tr>\n",
       "      <th>pnn50</th>\n",
       "      <td>6.17</td>\n",
       "      <td>6.43</td>\n",
       "      <td>1.45</td>\n",
       "      <td>1.42</td>\n",
       "      <td>0.31</td>\n",
       "      <td>0.34</td>\n",
       "      <td>0.94</td>\n",
       "      <td>0.90</td>\n",
       "    </tr>\n",
       "    <tr>\n",
       "      <th>mrri</th>\n",
       "      <td>748.22</td>\n",
       "      <td>0.00</td>\n",
       "      <td>603.53</td>\n",
       "      <td>-0.03</td>\n",
       "      <td>563.28</td>\n",
       "      <td>-0.00</td>\n",
       "      <td>780.45</td>\n",
       "      <td>0.00</td>\n",
       "    </tr>\n",
       "    <tr>\n",
       "      <th>total_power</th>\n",
       "      <td>2393.74</td>\n",
       "      <td>1193.70</td>\n",
       "      <td>2697.90</td>\n",
       "      <td>2579.67</td>\n",
       "      <td>409.09</td>\n",
       "      <td>244.38</td>\n",
       "      <td>1016.77</td>\n",
       "      <td>690.53</td>\n",
       "    </tr>\n",
       "    <tr>\n",
       "      <th>vlf</th>\n",
       "      <td>1379.60</td>\n",
       "      <td>136.16</td>\n",
       "      <td>285.37</td>\n",
       "      <td>179.71</td>\n",
       "      <td>190.73</td>\n",
       "      <td>5.77</td>\n",
       "      <td>386.69</td>\n",
       "      <td>26.28</td>\n",
       "    </tr>\n",
       "    <tr>\n",
       "      <th>lf</th>\n",
       "      <td>751.31</td>\n",
       "      <td>793.85</td>\n",
       "      <td>1018.02</td>\n",
       "      <td>1002.60</td>\n",
       "      <td>193.09</td>\n",
       "      <td>213.42</td>\n",
       "      <td>583.67</td>\n",
       "      <td>617.52</td>\n",
       "    </tr>\n",
       "    <tr>\n",
       "      <th>hf</th>\n",
       "      <td>262.82</td>\n",
       "      <td>263.69</td>\n",
       "      <td>1394.51</td>\n",
       "      <td>1397.36</td>\n",
       "      <td>25.27</td>\n",
       "      <td>25.19</td>\n",
       "      <td>46.42</td>\n",
       "      <td>46.72</td>\n",
       "    </tr>\n",
       "    <tr>\n",
       "      <th>lf_hf</th>\n",
       "      <td>2.86</td>\n",
       "      <td>3.01</td>\n",
       "      <td>0.73</td>\n",
       "      <td>0.72</td>\n",
       "      <td>7.64</td>\n",
       "      <td>8.47</td>\n",
       "      <td>12.57</td>\n",
       "      <td>13.22</td>\n",
       "    </tr>\n",
       "    <tr>\n",
       "      <th>lfnu</th>\n",
       "      <td>74.08</td>\n",
       "      <td>75.07</td>\n",
       "      <td>42.20</td>\n",
       "      <td>41.78</td>\n",
       "      <td>88.43</td>\n",
       "      <td>89.44</td>\n",
       "      <td>92.63</td>\n",
       "      <td>92.97</td>\n",
       "    </tr>\n",
       "    <tr>\n",
       "      <th>hfnu</th>\n",
       "      <td>25.92</td>\n",
       "      <td>24.93</td>\n",
       "      <td>57.80</td>\n",
       "      <td>58.22</td>\n",
       "      <td>11.57</td>\n",
       "      <td>10.56</td>\n",
       "      <td>7.37</td>\n",
       "      <td>7.03</td>\n",
       "    </tr>\n",
       "  </tbody>\n",
       "</table>\n",
       "</div>"
      ],
      "text/plain": [
       "             chf201 - data  chf201 - detrended data  chf202 - data  \\\n",
       "rmssd                26.63                    26.44          43.97   \n",
       "sdnn                 97.01                    38.69          50.07   \n",
       "pnn50                 6.17                     6.43           1.45   \n",
       "mrri                748.22                     0.00         603.53   \n",
       "total_power        2393.74                  1193.70        2697.90   \n",
       "vlf                1379.60                   136.16         285.37   \n",
       "lf                  751.31                   793.85        1018.02   \n",
       "hf                  262.82                   263.69        1394.51   \n",
       "lf_hf                 2.86                     3.01           0.73   \n",
       "lfnu                 74.08                    75.07          42.20   \n",
       "hfnu                 25.92                    24.93          57.80   \n",
       "\n",
       "             chf202 - detrended data  nsr001 - data  nsr001 - detrended data  \\\n",
       "rmssd                          43.97          14.50                    14.53   \n",
       "sdnn                           31.12          67.69                    16.93   \n",
       "pnn50                           1.42           0.31                     0.34   \n",
       "mrri                           -0.03         563.28                    -0.00   \n",
       "total_power                  2579.67         409.09                   244.38   \n",
       "vlf                           179.71         190.73                     5.77   \n",
       "lf                           1002.60         193.09                   213.42   \n",
       "hf                           1397.36          25.27                    25.19   \n",
       "lf_hf                           0.72           7.64                     8.47   \n",
       "lfnu                           41.78          88.43                    89.44   \n",
       "hfnu                           58.22          11.57                    10.56   \n",
       "\n",
       "             nsr002 - data  nsr002 - detrended data  \n",
       "rmssd                17.41                    17.31  \n",
       "sdnn                 75.76                    27.81  \n",
       "pnn50                 0.94                     0.90  \n",
       "mrri                780.45                     0.00  \n",
       "total_power        1016.77                   690.53  \n",
       "vlf                 386.69                    26.28  \n",
       "lf                  583.67                   617.52  \n",
       "hf                   46.42                    46.72  \n",
       "lf_hf                12.57                    13.22  \n",
       "lfnu                 92.63                    92.97  \n",
       "hfnu                  7.37                     7.03  "
      ]
     },
     "execution_count": 55,
     "metadata": {},
     "output_type": "execute_result"
    }
   ],
   "source": [
    "rt1_2 = pd.DataFrame.from_dict(results_time_1_20, orient='index', columns=['chf201 - data'])\n",
    "rt1_2c = pd.DataFrame.from_dict(results_time_1_20c, orient='index', columns=['chf201 - detrended data'])\n",
    "rt2_2 = pd.DataFrame.from_dict(results_time_2_20, orient='index', columns=['chf202 - data'])\n",
    "rt2_2c = pd.DataFrame.from_dict(results_time_2_20c, orient='index', columns=['chf202 - detrended data'])\n",
    "rt3_2 = pd.DataFrame.from_dict(results_time_3_20, orient='index', columns=['nsr001 - data'])\n",
    "rt3_2c = pd.DataFrame.from_dict(results_time_3_20c, orient='index', columns=['nsr001 - detrended data'])\n",
    "rt4_2 = pd.DataFrame.from_dict(results_time_4_20, orient='index', columns=['nsr002 - data'])\n",
    "rt4_2c = pd.DataFrame.from_dict(results_time_4_20c, orient='index', columns=['nsr002 - detrended data'])\n",
    "rf1_2 = pd.DataFrame.from_dict(results_freq_1_20, orient='index', columns=['chf201 - data'])\n",
    "rf1_2c = pd.DataFrame.from_dict(results_freq_1_20c, orient='index', columns=['chf201 - detrended data'])\n",
    "rf2_2 = pd.DataFrame.from_dict(results_freq_2_20, orient='index', columns=['chf202 - data'])\n",
    "rf2_2c = pd.DataFrame.from_dict(results_freq_2_20c, orient='index', columns=['chf202 - detrended data'])\n",
    "rf3_2 = pd.DataFrame.from_dict(results_freq_3_20, orient='index', columns=['nsr001 - data'])\n",
    "rf3_2c = pd.DataFrame.from_dict(results_freq_3_20c, orient='index', columns=['nsr001 - detrended data'])\n",
    "rf4_2 = pd.DataFrame.from_dict(results_freq_4_20, orient='index', columns=['nsr002 - data'])\n",
    "rf4_2c = pd.DataFrame.from_dict(results_freq_4_20c, orient='index', columns=['nsr002 - detrended data'])\n",
    "r22=pd.concat([rf1_2, rf1_2c, rf2_2, rf2_2c, rf3_2, rf3_2c, rf4_2, rf4_2c], axis = 1)\n",
    "r12=pd.concat([rt1_2, rt1_2c, rt2_2, rt2_2c, rt3_2, rt3_2c, rt4_2, rt4_2c], axis = 1)\n",
    "rr2 = r12.append(r22)\n",
    "rr2.round(2)"
   ]
  },
  {
   "attachments": {},
   "cell_type": "markdown",
   "metadata": {},
   "source": [
    "c) 5000 interwałów"
   ]
  },
  {
   "cell_type": "code",
<<<<<<< HEAD
   "execution_count": 56,
=======
   "execution_count": null,
>>>>>>> 9efdedc4041e7882e6866904b79d21381889bd30
   "metadata": {},
   "outputs": [],
   "source": [
    "rri_1_50 = data_1.time_range(start=0, end=5000)\n",
    "results_time_1_50 = time_dom(rri_1_50)\n",
    "results_freq_1_50 = frequency_domain(rri=rri_1_50, fs=4.0, method='welch', interp_method='cubic',\n",
    "    detrend='linear')"
   ]
  },
  {
   "cell_type": "code",
<<<<<<< HEAD
   "execution_count": 57,
=======
   "execution_count": null,
>>>>>>> 9efdedc4041e7882e6866904b79d21381889bd30
   "metadata": {},
   "outputs": [],
   "source": [
    "cleaned_1_50 = sg_detrend(rri_1_50,  polyorder=3)\n",
    "results_time_1_50c = time_dom(cleaned_1_50)\n",
    "results_freq_1_50c = frequency_domain(rri=cleaned_1_50, fs=4.0, method='welch', interp_method='cubic',\n",
    "    detrend='linear')"
   ]
  },
  {
   "cell_type": "code",
<<<<<<< HEAD
   "execution_count": 58,
=======
   "execution_count": null,
>>>>>>> 9efdedc4041e7882e6866904b79d21381889bd30
   "metadata": {},
   "outputs": [],
   "source": [
    "#fig1_9, ax1_9 = rri_1_50.plot(color='b')\n",
    "#fig2_9, ax2_9 = cleaned_1_50.plot(color='r')"
   ]
  },
  {
   "cell_type": "code",
<<<<<<< HEAD
   "execution_count": 59,
=======
   "execution_count": null,
>>>>>>> 9efdedc4041e7882e6866904b79d21381889bd30
   "metadata": {},
   "outputs": [],
   "source": [
    "rri_2_50 = data_2.time_range(start=0, end=5000)\n",
    "results_time_2_50 = time_dom(rri_2_50)\n",
    "results_freq_2_50 = frequency_domain(rri=rri_2_50, fs=4.0, method='welch', interp_method='cubic',\n",
    "    detrend='linear')"
   ]
  },
  {
   "cell_type": "code",
<<<<<<< HEAD
   "execution_count": 60,
=======
   "execution_count": null,
>>>>>>> 9efdedc4041e7882e6866904b79d21381889bd30
   "metadata": {},
   "outputs": [],
   "source": [
    "cleaned_2_50 =  sg_detrend(rri_2_50,  polyorder=3)\n",
    "results_time_2_50c = time_dom(cleaned_2_50)\n",
    "results_freq_2_50c = frequency_domain(rri=cleaned_2_50, fs=4.0, method='welch', interp_method='cubic',\n",
    "    detrend='linear')"
   ]
  },
  {
   "cell_type": "code",
<<<<<<< HEAD
   "execution_count": 61,
=======
   "execution_count": null,
>>>>>>> 9efdedc4041e7882e6866904b79d21381889bd30
   "metadata": {},
   "outputs": [],
   "source": [
    "#fig1_10, ax1_10 = rri_2_50.plot(color='b')\n",
    "#fig2_10, ax2_10 = cleaned_2_50.plot(color='r')"
   ]
  },
  {
   "cell_type": "code",
<<<<<<< HEAD
   "execution_count": 62,
=======
   "execution_count": null,
>>>>>>> 9efdedc4041e7882e6866904b79d21381889bd30
   "metadata": {},
   "outputs": [],
   "source": [
    "rri_3_50 = data_3.time_range(start=0, end=5000)\n",
    "results_time_3_50 = time_dom(rri_3_50)\n",
    "results_freq_3_50 = frequency_domain(rri=rri_3_50, fs=4.0, method='welch', interp_method='cubic',\n",
    "    detrend='linear')"
   ]
  },
  {
   "cell_type": "code",
<<<<<<< HEAD
   "execution_count": 63,
=======
   "execution_count": null,
>>>>>>> 9efdedc4041e7882e6866904b79d21381889bd30
   "metadata": {},
   "outputs": [],
   "source": [
    "cleaned_3_50 =  sg_detrend(rri_3_50,  polyorder=3)\n",
    "results_time_3_50c = time_dom(cleaned_3_50)\n",
    "results_freq_3_50c = frequency_domain(rri=cleaned_3_50, fs=4.0, method='welch', interp_method='cubic',\n",
    "    detrend='linear')"
   ]
  },
  {
   "cell_type": "code",
<<<<<<< HEAD
   "execution_count": 64,
=======
   "execution_count": null,
>>>>>>> 9efdedc4041e7882e6866904b79d21381889bd30
   "metadata": {},
   "outputs": [],
   "source": [
    "#fig1_11, ax1_11 = rri_3_50.plot(color='b')\n",
    "#fig2_11, ax2_11 = cleaned_3_50.plot(color='r')"
   ]
  },
  {
   "cell_type": "code",
<<<<<<< HEAD
   "execution_count": 65,
=======
   "execution_count": null,
>>>>>>> 9efdedc4041e7882e6866904b79d21381889bd30
   "metadata": {},
   "outputs": [],
   "source": [
    "rri_4_50 = data_4.time_range(start=0, end=5000)\n",
    "results_time_4_50 = time_dom(rri_4_50)\n",
    "results_freq_4_50 = frequency_domain(rri=rri_4_50, fs=4.0, method='welch', interp_method='cubic',\n",
    "    detrend='linear')"
   ]
  },
  {
   "cell_type": "code",
<<<<<<< HEAD
   "execution_count": 66,
=======
   "execution_count": null,
>>>>>>> 9efdedc4041e7882e6866904b79d21381889bd30
   "metadata": {},
   "outputs": [],
   "source": [
    "cleaned_4_50 =  sg_detrend(rri_4_50,  polyorder=3)\n",
    "results_time_4_50c = time_dom(cleaned_4_50)\n",
    "results_freq_4_50c = frequency_domain(rri=cleaned_4_50, fs=4.0, method='welch', interp_method='cubic',\n",
    "    detrend='linear')"
   ]
  },
  {
   "cell_type": "code",
<<<<<<< HEAD
   "execution_count": 67,
=======
   "execution_count": null,
>>>>>>> 9efdedc4041e7882e6866904b79d21381889bd30
   "metadata": {},
   "outputs": [],
   "source": [
    "#fig1_12, ax1_12 = rri_4_50.plot(color='b')\n",
    "#fig2_12, ax2_12 = cleaned_4_50.plot(color='r')"
   ]
  },
  {
   "cell_type": "code",
<<<<<<< HEAD
   "execution_count": 69,
=======
   "execution_count": null,
>>>>>>> 9efdedc4041e7882e6866904b79d21381889bd30
   "metadata": {},
   "outputs": [
    {
     "name": "stderr",
     "output_type": "stream",
     "text": [
      "C:\\Users\\tynka\\AppData\\Local\\Temp\\ipykernel_9144\\1999956832.py:19: FutureWarning: The frame.append method is deprecated and will be removed from pandas in a future version. Use pandas.concat instead.\n",
      "  rr5 = r15.append(r25)\n"
     ]
    },
    {
     "data": {
      "text/html": [
       "<div>\n",
       "<style scoped>\n",
       "    .dataframe tbody tr th:only-of-type {\n",
       "        vertical-align: middle;\n",
       "    }\n",
       "\n",
       "    .dataframe tbody tr th {\n",
       "        vertical-align: top;\n",
       "    }\n",
       "\n",
       "    .dataframe thead th {\n",
       "        text-align: right;\n",
       "    }\n",
       "</style>\n",
       "<table border=\"1\" class=\"dataframe\">\n",
       "  <thead>\n",
       "    <tr style=\"text-align: right;\">\n",
       "      <th></th>\n",
       "      <th>chf201 - data</th>\n",
       "      <th>chf201 - detrended data</th>\n",
       "      <th>chf202 - data</th>\n",
       "      <th>chf202 - detrended data</th>\n",
       "      <th>nsr001 - data</th>\n",
       "      <th>nsr001 - detrended data</th>\n",
       "      <th>nsr002 - data</th>\n",
       "      <th>nsr002 - detrended data</th>\n",
       "    </tr>\n",
       "  </thead>\n",
       "  <tbody>\n",
       "    <tr>\n",
       "      <th>rmssd</th>\n",
       "      <td>25.13</td>\n",
       "      <td>24.93</td>\n",
       "      <td>65.18</td>\n",
       "      <td>65.18</td>\n",
       "      <td>14.31</td>\n",
       "      <td>14.28</td>\n",
       "      <td>74.72</td>\n",
       "      <td>74.73</td>\n",
       "    </tr>\n",
       "    <tr>\n",
       "      <th>sdnn</th>\n",
       "      <td>98.69</td>\n",
       "      <td>35.39</td>\n",
       "      <td>59.76</td>\n",
       "      <td>45.72</td>\n",
       "      <td>68.73</td>\n",
       "      <td>15.52</td>\n",
       "      <td>83.65</td>\n",
       "      <td>57.05</td>\n",
       "    </tr>\n",
       "    <tr>\n",
       "      <th>pnn50</th>\n",
       "      <td>4.47</td>\n",
       "      <td>4.62</td>\n",
       "      <td>1.39</td>\n",
       "      <td>1.38</td>\n",
       "      <td>0.26</td>\n",
       "      <td>0.28</td>\n",
       "      <td>0.78</td>\n",
       "      <td>0.81</td>\n",
       "    </tr>\n",
       "    <tr>\n",
       "      <th>mrri</th>\n",
       "      <td>748.01</td>\n",
       "      <td>-0.02</td>\n",
       "      <td>628.04</td>\n",
       "      <td>-0.01</td>\n",
       "      <td>600.17</td>\n",
       "      <td>0.00</td>\n",
       "      <td>776.83</td>\n",
       "      <td>0.00</td>\n",
       "    </tr>\n",
       "    <tr>\n",
       "      <th>total_power</th>\n",
       "      <td>2026.83</td>\n",
       "      <td>982.24</td>\n",
       "      <td>9005.22</td>\n",
       "      <td>8772.63</td>\n",
       "      <td>314.62</td>\n",
       "      <td>185.54</td>\n",
       "      <td>23307.05</td>\n",
       "      <td>23331.87</td>\n",
       "    </tr>\n",
       "    <tr>\n",
       "      <th>vlf</th>\n",
       "      <td>1190.18</td>\n",
       "      <td>117.40</td>\n",
       "      <td>1152.78</td>\n",
       "      <td>894.78</td>\n",
       "      <td>143.39</td>\n",
       "      <td>4.52</td>\n",
       "      <td>5081.28</td>\n",
       "      <td>4985.86</td>\n",
       "    </tr>\n",
       "    <tr>\n",
       "      <th>lf</th>\n",
       "      <td>618.94</td>\n",
       "      <td>646.52</td>\n",
       "      <td>4233.80</td>\n",
       "      <td>4261.15</td>\n",
       "      <td>145.40</td>\n",
       "      <td>155.13</td>\n",
       "      <td>14874.04</td>\n",
       "      <td>14987.60</td>\n",
       "    </tr>\n",
       "    <tr>\n",
       "      <th>hf</th>\n",
       "      <td>217.71</td>\n",
       "      <td>218.31</td>\n",
       "      <td>3618.64</td>\n",
       "      <td>3616.69</td>\n",
       "      <td>25.83</td>\n",
       "      <td>25.90</td>\n",
       "      <td>3351.74</td>\n",
       "      <td>3358.41</td>\n",
       "    </tr>\n",
       "    <tr>\n",
       "      <th>lf_hf</th>\n",
       "      <td>2.84</td>\n",
       "      <td>2.96</td>\n",
       "      <td>1.17</td>\n",
       "      <td>1.18</td>\n",
       "      <td>5.63</td>\n",
       "      <td>5.99</td>\n",
       "      <td>4.44</td>\n",
       "      <td>4.46</td>\n",
       "    </tr>\n",
       "    <tr>\n",
       "      <th>lfnu</th>\n",
       "      <td>73.98</td>\n",
       "      <td>74.76</td>\n",
       "      <td>53.92</td>\n",
       "      <td>54.09</td>\n",
       "      <td>84.91</td>\n",
       "      <td>85.69</td>\n",
       "      <td>81.61</td>\n",
       "      <td>81.69</td>\n",
       "    </tr>\n",
       "    <tr>\n",
       "      <th>hfnu</th>\n",
       "      <td>26.02</td>\n",
       "      <td>25.24</td>\n",
       "      <td>46.08</td>\n",
       "      <td>45.91</td>\n",
       "      <td>15.09</td>\n",
       "      <td>14.31</td>\n",
       "      <td>18.39</td>\n",
       "      <td>18.31</td>\n",
       "    </tr>\n",
       "  </tbody>\n",
       "</table>\n",
       "</div>"
      ],
      "text/plain": [
       "             chf201 - data  chf201 - detrended data  chf202 - data  \\\n",
       "rmssd                25.13                    24.93          65.18   \n",
       "sdnn                 98.69                    35.39          59.76   \n",
       "pnn50                 4.47                     4.62           1.39   \n",
       "mrri                748.01                    -0.02         628.04   \n",
       "total_power        2026.83                   982.24        9005.22   \n",
       "vlf                1190.18                   117.40        1152.78   \n",
       "lf                  618.94                   646.52        4233.80   \n",
       "hf                  217.71                   218.31        3618.64   \n",
       "lf_hf                 2.84                     2.96           1.17   \n",
       "lfnu                 73.98                    74.76          53.92   \n",
       "hfnu                 26.02                    25.24          46.08   \n",
       "\n",
       "             chf202 - detrended data  nsr001 - data  nsr001 - detrended data  \\\n",
       "rmssd                          65.18          14.31                    14.28   \n",
       "sdnn                           45.72          68.73                    15.52   \n",
       "pnn50                           1.38           0.26                     0.28   \n",
       "mrri                           -0.01         600.17                     0.00   \n",
       "total_power                  8772.63         314.62                   185.54   \n",
       "vlf                           894.78         143.39                     4.52   \n",
       "lf                           4261.15         145.40                   155.13   \n",
       "hf                           3616.69          25.83                    25.90   \n",
       "lf_hf                           1.18           5.63                     5.99   \n",
       "lfnu                           54.09          84.91                    85.69   \n",
       "hfnu                           45.91          15.09                    14.31   \n",
       "\n",
       "             nsr002 - data  nsr002 - detrended data  \n",
       "rmssd                74.72                    74.73  \n",
       "sdnn                 83.65                    57.05  \n",
       "pnn50                 0.78                     0.81  \n",
       "mrri                776.83                     0.00  \n",
       "total_power       23307.05                 23331.87  \n",
       "vlf                5081.28                  4985.86  \n",
       "lf                14874.04                 14987.60  \n",
       "hf                 3351.74                  3358.41  \n",
       "lf_hf                 4.44                     4.46  \n",
       "lfnu                 81.61                    81.69  \n",
       "hfnu                 18.39                    18.31  "
      ]
     },
     "execution_count": 69,
     "metadata": {},
     "output_type": "execute_result"
    }
   ],
   "source": [
    "rt1_5 = pd.DataFrame.from_dict(results_time_1_50, orient='index', columns=['chf201 - data'])\n",
    "rt1_5c = pd.DataFrame.from_dict(results_time_1_50c, orient='index', columns=['chf201 - detrended data'])\n",
    "rt2_5 = pd.DataFrame.from_dict(results_time_2_50, orient='index', columns=['chf202 - data'])\n",
    "rt2_5c = pd.DataFrame.from_dict(results_time_2_50c, orient='index', columns=['chf202 - detrended data'])\n",
    "rt3_5 = pd.DataFrame.from_dict(results_time_3_50, orient='index', columns=['nsr001 - data'])\n",
    "rt3_5c = pd.DataFrame.from_dict(results_time_3_50c, orient='index', columns=['nsr001 - detrended data'])\n",
    "rt4_5 = pd.DataFrame.from_dict(results_time_4_50, orient='index', columns=['nsr002 - data'])\n",
    "rt4_5c = pd.DataFrame.from_dict(results_time_4_50c, orient='index', columns=['nsr002 - detrended data'])\n",
    "rf1_5 = pd.DataFrame.from_dict(results_freq_1_50, orient='index', columns=['chf201 - data'])\n",
    "rf1_5c = pd.DataFrame.from_dict(results_freq_1_50c, orient='index', columns=['chf201 - detrended data'])\n",
    "rf2_5 = pd.DataFrame.from_dict(results_freq_2_50, orient='index', columns=['chf202 - data'])\n",
    "rf2_5c = pd.DataFrame.from_dict(results_freq_2_50c, orient='index', columns=['chf202 - detrended data'])\n",
    "rf3_5 = pd.DataFrame.from_dict(results_freq_3_50, orient='index', columns=['nsr001 - data'])\n",
    "rf3_5c = pd.DataFrame.from_dict(results_freq_3_50c, orient='index', columns=['nsr001 - detrended data'])\n",
    "rf4_5 = pd.DataFrame.from_dict(results_freq_4_50, orient='index', columns=['nsr002 - data'])\n",
    "rf4_5c = pd.DataFrame.from_dict(results_freq_4_50c, orient='index', columns=['nsr002 - detrended data'])\n",
    "r25=pd.concat([rf1_5, rf1_5c, rf2_5, rf2_5c, rf3_5, rf3_5c, rf4_5, rf4_5c], axis = 1)\n",
    "r15=pd.concat([rt1_5, rt1_5c, rt2_5, rt2_5c, rt3_5, rt3_5c, rt4_5, rt4_5c], axis = 1)\n",
    "rr5 = r15.append(r25)\n",
    "rr5.round(2)"
   ]
  },
  {
   "attachments": {},
   "cell_type": "markdown",
   "metadata": {},
   "source": [
    "Analiza poszczególnych parametrów:"
   ]
  },
  {
   "attachments": {},
   "cell_type": "markdown",
   "metadata": {},
   "source": [
    "Dziedzina czasu:\n",
    "\n",
    "Średnia wartość interwałów RR (mrri) dla sygnału bez trendu jest bardzo różna względem sygnału oryginalnego, co zgadza się z oczekiwaniami. Wartości te oscylują wokół 0.\n",
    "\n",
    "Wartości odchylenia standardowego dla sygnałów (sdnn) bez trendu różnią się znacznie od tych wartości dla sygnału z trendem.   \n",
    "\n",
    "Wartości pierwiastka kwadratowego ze średniej kwadratów różnic między odstępami RR (rmssd) dla sygnału z trendem i bez trendu sa takie same, lub bardzo bliskie sobie.\n",
    "\n",
    "Różnice wartości procentowych różnic między interwałami RR przekraczającymi 50 ms (pnn50) są bardzo niewielkie, zazwyczaj rzędu 10^(-1)\n",
    "\n",
    "Dziedzina częstotliwości:\n",
    "\n",
    "Moc VLF  dla sygnału bez trendu jest znacznie mniejsza niż dla sygnału z trendem. Dla plików chf201, nsr001 i nsr002(dla przedziałów 1000 i 2000) różnice sięgają rzędu wielkości w dół. Dla pliku chf202 różnice są mniejsze, jednak wciąż widocze. \n",
    "\n",
    "Moc LF dla sygnału z trendem jest mniejsza od mocy dla sygnału bez trendu. Są to niewielkie różnice, jednak widoczne. Jedynie dla pliku chf202 dla zakresów 1000 i 2000 te wartości są bliskie sobie. \n",
    "\n",
    "Wartości mocy HF dla obu sygnałów są sobie bardzo bliskie. \n",
    "\n",
    "Wartości całkowitej mocy różnią się od siebie znacznie. Jednak różnice te zmniejszają się widocznie wraz z powiększeniem zakresu - dla zakresu 5000 róznice te są najmniejsze.\n",
    "\n",
    "Stosunki mocy LF do mocy HF dla sygnałów bez trendu i z trendem różnią się od siebie, jednak różnice te zmniejszają się wraz z powiększeniem zakresu sygnału - dla zakresu 5000 różnice te są najmniejsze.  \n",
    "\n",
    "\n",
    "\n"
   ]
  },
  {
   "attachments": {},
   "cell_type": "markdown",
   "metadata": {},
   "source": [
    "Wnioski:"
   ]
  },
  {
   "attachments": {},
   "cell_type": "markdown",
   "metadata": {},
   "source": [
    "Po analizie wyznaczonych parametrów mogę stwierdzić, że najmniej różnic względem sygnału oryginalnego występuje dla sygnału bez trendu o największym zakresie, czyli 5000 interwałów. Jest to szczególnie widoczne po parametrach w dziedzinie częstotliwości (stosunek LF/HF oraz całkowita moc). \n",
    "\n",
    "Pozbycie się trendu z sygnału najbardziej wpływa na wartości odchylenia standardowego, mocy LF oraz mocy VLF. Pozostałe wartościo są bliskie lub rózne sobie. "
   ]
  }
 ],
 "metadata": {
  "kernelspec": {
   "display_name": "Python 3",
   "language": "python",
   "name": "python3"
  },
  "language_info": {
   "codemirror_mode": {
    "name": "ipython",
    "version": 3
   },
   "file_extension": ".py",
   "mimetype": "text/x-python",
   "name": "python",
   "nbconvert_exporter": "python",
   "pygments_lexer": "ipython3",
   "version": "3.10.4"
  },
  "orig_nbformat": 4
 },
 "nbformat": 4,
 "nbformat_minor": 2
}
